{
 "cells": [
  {
   "cell_type": "markdown",
   "id": "63970c5e",
   "metadata": {},
   "source": [
    "# Getting started\n",
    "A regular analysis consists of mapping the emission channels, localizing molecules and extracting the intensity traces. The data for these steps is supposed to be collected in one directory and includes a series of tiff files. To get started, first import the library and create an 'Experiment'.\n"
   ]
  },
  {
   "cell_type": "code",
   "id": "8b89e6a6",
   "metadata": {
    "ExecuteTime": {
     "end_time": "2025-09-29T14:50:03.043083Z",
     "start_time": "2025-09-29T14:49:33.356672Z"
    }
   },
   "source": [
    "import papylio as pp\n",
    "exp = pp.Experiment()"
   ],
   "outputs": [
    {
     "name": "stderr",
     "output_type": "stream",
     "text": [
      "Import files: 100%|██████████| 19/19 [00:00<00:00, 58.24it/s]\n"
     ]
    },
    {
     "name": "stdout",
     "output_type": "stream",
     "text": [
      "\n",
      "File(Bead slide\\Bead slide) used as mapping\n",
      "\n",
      "Initialize experiment: \n",
      "C:\\Users\\jkerssemakers\\OneDrive - Delft University of Technology\\ChJ_recent\\Papylio example dataset\n"
     ]
    }
   ],
   "execution_count": 2
  },
  {
   "metadata": {},
   "cell_type": "markdown",
   "source": "When calling without any arguments a dialog box opens where you can select the main folder containing the single-molecule movies.  For this tutorial, we use an example dataset. When calling 'Experiment' with a specific path, best use this format: exp = pp.Experiment(r\"C:\\Users\\you\\mydir\\etc\\).",
   "id": "4803eff2767e0b88"
  },
  {
   "cell_type": "markdown",
   "id": "c8482d28",
   "metadata": {},
   "source": [
    "Actions:\n",
    "\n",
    "* The code lists the path. In addition, by default, the first tiff file is assumed to be the one used for alignment (see below). In the example data, it is named 'Bead slide'.\n",
    "\n",
    "* Creating the experiment object will either load an existing configuration (config) file that is present in the selected path, or it will create a default config file which can then be adapted. This config file contains settings to be used in the various pipeline sections.\n",
    "\n",
    " The tiff files can be listed as follows:"
   ]
  },
  {
   "cell_type": "code",
   "id": "1dd71e3c7e04aac1",
   "metadata": {
    "ExecuteTime": {
     "end_time": "2025-09-29T14:50:08.939413Z",
     "start_time": "2025-09-29T14:50:08.922470Z"
    }
   },
   "source": [
    "exp.files.print()"
   ],
   "outputs": [
    {
     "name": "stdout",
     "output_type": "stream",
     "text": [
      "  0.  Bead slide\\Bead slide\n",
      "  1.  ssHJ1\\ssHJ1 TIRF 561 0001\n",
      "  2.  ssHJ1\\ssHJ1 TIRF 561 0002\n",
      "  3.  ssHJ1\\ssHJ1 TIRF 561 0003\n",
      "  4.  ssHJ1\\ssHJ1 TIRF 561 0004\n",
      "  5.  ssHJ1\\ssHJ1 TIRF 561 0005\n",
      "  6.  ssHJ1\\ssHJ1 TIRF 561 0006\n",
      "  7.  ssHJ3\\ssHJ3 TIRF 561 0001\n",
      "  8.  ssHJ3\\ssHJ3 TIRF 561 0002\n",
      "  9.  ssHJ3\\ssHJ3 TIRF 561 0003\n",
      " 10.  ssHJ3\\ssHJ3 TIRF 561 0004\n",
      " 11.  ssHJ3\\ssHJ3 TIRF 561 0005\n",
      " 12.  ssHJ3\\ssHJ3 TIRF 561 0006\n",
      " 13.  ssHJ7\\ssHJ7 TIRF 561 0001\n",
      " 14.  ssHJ7\\ssHJ7 TIRF 561 0002\n",
      " 15.  ssHJ7\\ssHJ7 TIRF 561 0003\n",
      " 16.  ssHJ7\\ssHJ7 TIRF 561 0004\n",
      " 17.  ssHJ7\\ssHJ7 TIRF 561 0005\n",
      " 18.  ssHJ7\\ssHJ7 TIRF 561 0006\n"
     ]
    }
   ],
   "execution_count": 3
  },
  {
   "cell_type": "markdown",
   "id": "10e92c08629f887f",
   "metadata": {},
   "source": "Next, a series of standard processing steps can be carried out. For all these steps, intermediate results are saved into the directory as set above."
  }
 ],
 "metadata": {
  "kernelspec": {
   "display_name": "papylio",
   "language": "python",
   "name": "python3"
  },
  "language_info": {
   "codemirror_mode": {
    "name": "ipython",
    "version": 3
   },
   "file_extension": ".py",
   "mimetype": "text/x-python",
   "name": "python",
   "nbconvert_exporter": "python",
   "pygments_lexer": "ipython3",
   "version": "3.9.15"
  }
 },
 "nbformat": 4,
 "nbformat_minor": 5
}
