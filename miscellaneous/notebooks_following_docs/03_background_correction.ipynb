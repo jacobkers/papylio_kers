{
 "cells": [
  {
   "cell_type": "code",
   "id": "843c8d19",
   "metadata": {
    "ExecuteTime": {
     "end_time": "2025-09-15T08:26:13.260403Z",
     "start_time": "2025-09-15T08:26:13.244283Z"
    }
   },
   "source": [
    "# set up autoreload on all files\n",
    "#%load_ext autoreload\n",
    "#%autoreload 2\n"
   ],
   "outputs": [],
   "execution_count": 12
  },
  {
   "cell_type": "markdown",
   "id": "63970c5e",
   "metadata": {},
   "source": [
    "## setting up\n",
    "* To run this and following sections by Notebook as independent steps, we first define the 'Experiment' and link it to the current state of the data analysis. Naturally, if you collect all steps in one Notebook you need to do this step only once.\n",
    "* When running this Notebook from within an IDE (for example, PyCharm), there is no need to re-import papylio; just comment it out."
   ]
  },
  {
   "cell_type": "code",
   "id": "8b89e6a6",
   "metadata": {
    "ExecuteTime": {
     "end_time": "2025-09-15T15:14:19.564385Z",
     "start_time": "2025-09-15T15:14:19.455005Z"
    }
   },
   "source": [
    "#import papylio as pp\n",
    "exp = pp.Experiment(r\"C:\\Users\\jkerssemakers\\OneDrive - Delft University of Technology\\ChJ_recent\\Papylio example dataset\")\n",
    "\n",
    "file_index = 0 #make sure this index points to the correct file\n",
    "file_of_choice = exp.files[file_index]\n"
   ],
   "outputs": [
    {
     "name": "stderr",
     "output_type": "stream",
     "text": [
      "Import files: 100%|██████████| 19/19 [00:00<00:00, 272.36it/s]\n"
     ]
    },
    {
     "name": "stdout",
     "output_type": "stream",
     "text": [
      "\n",
      "File(Bead slide\\Bead slide) used as mapping\n",
      "\n",
      "Initialize experiment: \n",
      "C:\\Users\\jkerssemakers\\OneDrive - Delft University of Technology\\ChJ_recent\\Papylio example dataset\n"
     ]
    }
   ],
   "execution_count": 5
  },
  {
   "metadata": {},
   "cell_type": "markdown",
   "source": [
    "# Background subtraction\n",
    "To obtain correct fluorescence and FRET values it is important to perform background correction. There are three types of background subtraction that can be performed. A temporal background subtraction that corrects variations in background over time (but not in x and y); a spatial background correction that corrects variations over the x and y (but not over time); and a general background correction, which is a single value for the entire movie. Any of these can be applied. If more than one are used, they have to be determined in the order temporal, spatial, general, as this is also the order in which they are applied. Determining the corrections in a different order, will delete the corrections that should have been determined later. The background corrections are stored in an _corrections.nc file for each movie."
   ],
   "id": "2223401f55cb3e59"
  },
  {
   "metadata": {},
   "cell_type": "markdown",
   "source": [
    "# Temporal background correction\n",
    "If there are fluorophores in solutions, the background may change slightly over time due to e.g. bleaching. In this case a temporal background correction can be applied. The following line calculates a single background subtraction value per frame by taking the median."
   ],
   "id": "7643a41036ad27cf"
  },
  {
   "metadata": {
    "ExecuteTime": {
     "end_time": "2025-09-15T15:24:39.201273Z",
     "start_time": "2025-09-15T15:24:38.830348Z"
    }
   },
   "cell_type": "code",
   "source": "file_of_choice.movie.determine_temporal_background_correction(method='median')",
   "id": "64e9ecc01cbeae49",
   "outputs": [
    {
     "name": "stderr",
     "output_type": "stream",
     "text": [
      "100%|██████████| 34/34 [00:00<00:00, 950.02it/s]\n",
      "100%|██████████| 34/34 [00:00<00:00, 755.43it/s]\n"
     ]
    }
   ],
   "execution_count": 7
  },
  {
   "metadata": {},
   "cell_type": "markdown",
   "source": "*how can i see this as a graph? How to check the data?*",
   "id": "18da201adb7f627"
  },
  {
   "metadata": {},
   "cell_type": "markdown",
   "source": [
    "# Spatial background correction\n",
    "To compensate for variations in background over the image, a spatial correction can be applied. For example by estimating the background using a median filter, which is then applied to all frames."
   ],
   "id": "ac678b77609a48aa"
  },
  {
   "metadata": {},
   "cell_type": "code",
   "outputs": [],
   "execution_count": null,
   "source": "",
   "id": "6280d98b77ba2502"
  },
  {
   "metadata": {
    "ExecuteTime": {
     "end_time": "2025-09-15T15:27:38.323480Z",
     "start_time": "2025-09-15T15:27:37.210961Z"
    }
   },
   "cell_type": "code",
   "source": "file_of_choice.movie.determine_spatial_background_correction(method='median_filter', size=20)",
   "id": "6ff9b29a013ee917",
   "outputs": [],
   "execution_count": 8
  },
  {
   "metadata": {},
   "cell_type": "markdown",
   "source": "*how can i see this as a graph? How to check the data?*",
   "id": "a49da0fb48b86e83"
  }
 ],
 "metadata": {
  "kernelspec": {
   "display_name": "papylio",
   "language": "python",
   "name": "python3"
  },
  "language_info": {
   "codemirror_mode": {
    "name": "ipython",
    "version": 3
   },
   "file_extension": ".py",
   "mimetype": "text/x-python",
   "name": "python",
   "nbconvert_exporter": "python",
   "pygments_lexer": "ipython3",
   "version": "3.9.15"
  }
 },
 "nbformat": 4,
 "nbformat_minor": 5
}
