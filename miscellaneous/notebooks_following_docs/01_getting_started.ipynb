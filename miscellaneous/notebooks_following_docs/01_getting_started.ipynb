{
 "cells": [
  {
   "cell_type": "code",
   "id": "843c8d19",
   "metadata": {
    "ExecuteTime": {
     "end_time": "2025-09-15T08:26:13.260403Z",
     "start_time": "2025-09-15T08:26:13.244283Z"
    }
   },
   "source": [
    "# set up autoreload on all files\n",
    "#%load_ext autoreload\n",
    "#%autoreload 2\n"
   ],
   "outputs": [],
   "execution_count": 12
  },
  {
   "cell_type": "markdown",
   "id": "63970c5e",
   "metadata": {},
   "source": [
    "# Getting started\n",
    "A regular analysis consists of mapping the emission channels, localizing molecules and extracting the intensity traces. The data for these steps is supposed to be collected in one directory. To get started, first import the library and create an 'Experiment'."
   ]
  },
  {
   "cell_type": "code",
   "id": "8b89e6a6",
   "metadata": {
    "ExecuteTime": {
     "end_time": "2025-09-15T08:30:57.050141Z",
     "start_time": "2025-09-15T08:30:56.941577Z"
    }
   },
   "source": [
    "import papylio as pp\n",
    "exp = pp.Experiment(r\"C:\\Users\\jkerssemakers\\OneDrive - Delft University of Technology\\ChJ_recent\\Papylio example dataset\")"
   ],
   "outputs": [
    {
     "name": "stderr",
     "output_type": "stream",
     "text": [
      "Import files: 100%|██████████| 19/19 [00:00<00:00, 307.45it/s]\n"
     ]
    },
    {
     "name": "stdout",
     "output_type": "stream",
     "text": [
      "\n",
      "File(Bead slide\\Bead slide) used as mapping\n",
      "\n",
      "Initialize experiment: \n",
      "C:\\Users\\jkerssemakers\\OneDrive - Delft University of Technology\\ChJ_recent\\Papylio example dataset\n"
     ]
    }
   ],
   "execution_count": 15
  },
  {
   "cell_type": "markdown",
   "id": "c8482d28",
   "metadata": {},
   "source": [
    "\n",
    "Input: calling Experiment with a path, best use this format: exp = pp.Experiment(r\"C:\\Users\\you\\mydir\\etc\\). Without any arguments a dialog box opens where you can select the main folder containing the single-molecule movies.\n",
    "\n",
    "What it will do: Creating the experiment object will either load an existing configuration (config) file that is present in the selected path, or it will create a default config file which can then be adapted.\n",
    "\n",
    "To show the contents:"
   ]
  },
  {
   "metadata": {
    "ExecuteTime": {
     "end_time": "2025-09-15T08:26:13.429926Z",
     "start_time": "2025-09-15T08:26:13.393182Z"
    }
   },
   "cell_type": "code",
   "source": "exp.files.print()",
   "id": "1dd71e3c7e04aac1",
   "outputs": [
    {
     "name": "stdout",
     "output_type": "stream",
     "text": [
      "  0.  Bead slide\\Bead slide\n",
      "  1.  ssHJ1\\ssHJ1 TIRF 561 0001\n",
      "  2.  ssHJ1\\ssHJ1 TIRF 561 0002\n",
      "  3.  ssHJ1\\ssHJ1 TIRF 561 0003\n",
      "  4.  ssHJ1\\ssHJ1 TIRF 561 0004\n",
      "  5.  ssHJ1\\ssHJ1 TIRF 561 0005\n",
      "  6.  ssHJ1\\ssHJ1 TIRF 561 0006\n",
      "  7.  ssHJ3\\ssHJ3 TIRF 561 0001\n",
      "  8.  ssHJ3\\ssHJ3 TIRF 561 0002\n",
      "  9.  ssHJ3\\ssHJ3 TIRF 561 0003\n",
      " 10.  ssHJ3\\ssHJ3 TIRF 561 0004\n",
      " 11.  ssHJ3\\ssHJ3 TIRF 561 0005\n",
      " 12.  ssHJ3\\ssHJ3 TIRF 561 0006\n",
      " 13.  ssHJ7\\ssHJ7 TIRF 561 0001\n",
      " 14.  ssHJ7\\ssHJ7 TIRF 561 0002\n",
      " 15.  ssHJ7\\ssHJ7 TIRF 561 0003\n",
      " 16.  ssHJ7\\ssHJ7 TIRF 561 0004\n",
      " 17.  ssHJ7\\ssHJ7 TIRF 561 0005\n",
      " 18.  ssHJ7\\ssHJ7 TIRF 561 0006\n"
     ]
    }
   ],
   "execution_count": 14
  },
  {
   "metadata": {},
   "cell_type": "markdown",
   "source": "Next, a series of standard processing steps can be carried out. The intermediate results of these steps are saved into the directory used above. [describe the organization/labelling of savings here]",
   "id": "10e92c08629f887f"
  }
 ],
 "metadata": {
  "kernelspec": {
   "display_name": "papylio",
   "language": "python",
   "name": "python3"
  },
  "language_info": {
   "codemirror_mode": {
    "name": "ipython",
    "version": 3
   },
   "file_extension": ".py",
   "mimetype": "text/x-python",
   "name": "python",
   "nbconvert_exporter": "python",
   "pygments_lexer": "ipython3",
   "version": "3.9.15"
  }
 },
 "nbformat": 4,
 "nbformat_minor": 5
}
